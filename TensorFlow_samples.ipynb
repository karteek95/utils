{
 "cells": [
  {
   "cell_type": "markdown",
   "id": "0d49c607-2144-428e-8132-2d9e5c1362d6",
   "metadata": {},
   "source": [
    "## 1. Basic TensorFlow Operations"
   ]
  },
  {
   "cell_type": "code",
   "execution_count": 2,
   "id": "ebb3f718-a998-49fe-8c28-551ea5c1206a",
   "metadata": {},
   "outputs": [
    {
     "name": "stdout",
     "output_type": "stream",
     "text": [
      "Sum: 5\n",
      "Product: 6\n"
     ]
    }
   ],
   "source": [
    "import tensorflow as tf\n",
    "\n",
    "# Define constants\n",
    "a = tf.constant(2)\n",
    "b = tf.constant(3)\n",
    "\n",
    "# Perform operations\n",
    "sum_ab = tf.add(a, b)\n",
    "prod_ab = tf.multiply(a, b)\n",
    "\n",
    "#Initialize a session and run the operations\n",
    "print(\"Sum:\", sum_ab.numpy()) #output: sum: 5\n",
    "print(\"Product:\", prod_ab.numpy()) #Output: Product: 6"
   ]
  },
  {
   "cell_type": "code",
   "execution_count": 4,
   "id": "31ff8fae-c89f-4399-b228-b499b1733e28",
   "metadata": {},
   "outputs": [
    {
     "name": "stdout",
     "output_type": "stream",
     "text": [
      "W: 2.051225423812866, b: 0.8539638519287109\n"
     ]
    }
   ],
   "source": [
    "## 2. Linear Regression Example\n",
    "import numpy as np\n",
    "\n",
    "# Data: y = 2x + 1\n",
    "X = np.array([0, 1, 2, 3, 4], dtype=np.float32)\n",
    "Y = np.array([1, 3, 5, 7, 9], dtype=np.float32)\n",
    "\n",
    "#Variables (trainable weights)\n",
    "W = tf.Variable(0.0)\n",
    "b = tf.Variable(0.0)\n",
    "\n",
    "# Linear model\n",
    "def model(X):\n",
    "    return W * X + b\n",
    "\n",
    "# Loss function (Mean squared Error)\n",
    "def loss_fn(y_true, y_pred):\n",
    "    return tf.reduce_mean(tf.square(y_true - y_pred))\n",
    "\n",
    "#optimizer\n",
    "optimizer = tf.optimizers.SGD(learning_rate=0.01)\n",
    "\n",
    "#Training\n",
    "for epoch in range(100):\n",
    "    with tf.GradientTape() as tape:\n",
    "        y_pred = model(X)\n",
    "        loss = loss_fn(Y, y_pred)\n",
    "    gradients = tape.gradient(loss, [W, b])\n",
    "    optimizer.apply_gradients(zip(gradients, [W, b]))\n",
    "\n",
    "#Output the trained weights\n",
    "print(f\"W: {W.numpy()}, b: {b.numpy()}\")"
   ]
  },
  {
   "cell_type": "markdown",
   "id": "b1dd22b5-6d4e-416b-9e29-ee05711146f4",
   "metadata": {},
   "source": [
    "The script implements a simple linear regression model in TensorFlow. It trains on the data y = 2x + 1 and uses gradient descent for optimization. After 100 epochs, the model should learn parameters W = 2 and b = 1"
   ]
  },
  {
   "cell_type": "markdown",
   "id": "23912acf-76dc-4905-b022-574ca77b67a2",
   "metadata": {},
   "source": [
    "## 3. Neural Network Example (Multi-Layer Perceptron)"
   ]
  },
  {
   "cell_type": "code",
   "execution_count": 5,
   "id": "e1b706d2-ecf8-4c75-919b-f3aa18a37a65",
   "metadata": {},
   "outputs": [
    {
     "name": "stdout",
     "output_type": "stream",
     "text": [
      "Downloading data from https://storage.googleapis.com/tensorflow/tf-keras-datasets/mnist.npz\n",
      "\u001b[1m11490434/11490434\u001b[0m \u001b[32m━━━━━━━━━━━━━━━━━━━━\u001b[0m\u001b[37m\u001b[0m \u001b[1m4s\u001b[0m 0us/step\n"
     ]
    },
    {
     "name": "stderr",
     "output_type": "stream",
     "text": [
      "C:\\Users\\kandu\\anaconda3\\Lib\\site-packages\\keras\\src\\layers\\reshaping\\flatten.py:37: UserWarning: Do not pass an `input_shape`/`input_dim` argument to a layer. When using Sequential models, prefer using an `Input(shape)` object as the first layer in the model instead.\n",
      "  super().__init__(**kwargs)\n"
     ]
    },
    {
     "name": "stdout",
     "output_type": "stream",
     "text": [
      "Epoch 1/5\n",
      "\u001b[1m1875/1875\u001b[0m \u001b[32m━━━━━━━━━━━━━━━━━━━━\u001b[0m\u001b[37m\u001b[0m \u001b[1m4s\u001b[0m 2ms/step - accuracy: 0.8780 - loss: 0.4290\n",
      "Epoch 2/5\n",
      "\u001b[1m1875/1875\u001b[0m \u001b[32m━━━━━━━━━━━━━━━━━━━━\u001b[0m\u001b[37m\u001b[0m \u001b[1m3s\u001b[0m 1ms/step - accuracy: 0.9655 - loss: 0.1164\n",
      "Epoch 3/5\n",
      "\u001b[1m1875/1875\u001b[0m \u001b[32m━━━━━━━━━━━━━━━━━━━━\u001b[0m\u001b[37m\u001b[0m \u001b[1m3s\u001b[0m 1ms/step - accuracy: 0.9766 - loss: 0.0779\n",
      "Epoch 4/5\n",
      "\u001b[1m1875/1875\u001b[0m \u001b[32m━━━━━━━━━━━━━━━━━━━━\u001b[0m\u001b[37m\u001b[0m \u001b[1m3s\u001b[0m 2ms/step - accuracy: 0.9825 - loss: 0.0563\n",
      "Epoch 5/5\n",
      "\u001b[1m1875/1875\u001b[0m \u001b[32m━━━━━━━━━━━━━━━━━━━━\u001b[0m\u001b[37m\u001b[0m \u001b[1m3s\u001b[0m 1ms/step - accuracy: 0.9867 - loss: 0.0443\n",
      "\u001b[1m313/313\u001b[0m \u001b[32m━━━━━━━━━━━━━━━━━━━━\u001b[0m\u001b[37m\u001b[0m \u001b[1m0s\u001b[0m 949us/step - accuracy: 0.9705 - loss: 0.0948\n"
     ]
    }
   ],
   "source": [
    "from tensorflow.keras import layers, models\n",
    "\n",
    "#Sample dataset (MNIST handwritten digits)\n",
    "mnist = tf.keras.datasets.mnist\n",
    "(X_train, y_train), (X_test, y_test) = mnist.load_data()\n",
    "\n",
    "# pre-process data\n",
    "X_train, X_test = X_train / 255.0, X_test / 255.0\n",
    "\n",
    "#Build the model\n",
    "model = models.Sequential([\n",
    "    layers.Flatten(input_shape = (28, 28)),\n",
    "    layers.Dense(128, activation = 'relu'),\n",
    "    layers.Dense(10, activation = 'softmax')\n",
    "])\n",
    "\n",
    "#compile the model\n",
    "model.compile(optimizer = 'adam',\n",
    "              loss = 'sparse_categorical_crossentropy',\n",
    "              metrics = ['accuracy'])\n",
    "\n",
    "# Train the model\n",
    "model.fit(X_train, y_train, epochs = 5)\n",
    "\n",
    "#Evaluate the model\n",
    "test_loss, test_acc = model.evaluate(X_test, y_test)"
   ]
  },
  {
   "cell_type": "markdown",
   "id": "6f1cb36a-6c52-420f-93d0-87472eceb926",
   "metadata": {},
   "source": [
    "## 4. CNN Fine-Tuning (Last Layer)"
   ]
  },
  {
   "cell_type": "code",
   "execution_count": 8,
   "id": "e95efbe0-1f73-43b0-a4bb-15d805d67fad",
   "metadata": {},
   "outputs": [
    {
     "name": "stdout",
     "output_type": "stream",
     "text": [
      "Epoch 1/3\n",
      "\u001b[1m1/1\u001b[0m \u001b[32m━━━━━━━━━━━━━━━━━━━━\u001b[0m\u001b[37m\u001b[0m \u001b[1m7s\u001b[0m 7s/step - accuracy: 0.0312 - loss: 2.9435\n",
      "Epoch 2/3\n",
      "\u001b[1m1/1\u001b[0m \u001b[32m━━━━━━━━━━━━━━━━━━━━\u001b[0m\u001b[37m\u001b[0m \u001b[1m0s\u001b[0m 365ms/step - accuracy: 0.0625 - loss: 2.5729\n",
      "Epoch 3/3\n",
      "\u001b[1m1/1\u001b[0m \u001b[32m━━━━━━━━━━━━━━━━━━━━\u001b[0m\u001b[37m\u001b[0m \u001b[1m0s\u001b[0m 357ms/step - accuracy: 0.1562 - loss: 2.3409\n",
      "Epoch 1/3\n",
      "\u001b[1m1/1\u001b[0m \u001b[32m━━━━━━━━━━━━━━━━━━━━\u001b[0m\u001b[37m\u001b[0m \u001b[1m40s\u001b[0m 40s/step - accuracy: 0.0625 - loss: 2.4421\n",
      "Epoch 2/3\n",
      "\u001b[1m1/1\u001b[0m \u001b[32m━━━━━━━━━━━━━━━━━━━━\u001b[0m\u001b[37m\u001b[0m \u001b[1m2s\u001b[0m 2s/step - accuracy: 0.1562 - loss: 2.2602\n",
      "Epoch 3/3\n",
      "\u001b[1m1/1\u001b[0m \u001b[32m━━━━━━━━━━━━━━━━━━━━\u001b[0m\u001b[37m\u001b[0m \u001b[1m2s\u001b[0m 2s/step - accuracy: 0.2188 - loss: 2.0900\n"
     ]
    },
    {
     "data": {
      "text/plain": [
       "<keras.src.callbacks.history.History at 0x17708a41550>"
      ]
     },
     "execution_count": 8,
     "metadata": {},
     "output_type": "execute_result"
    }
   ],
   "source": [
    "from tensorflow.keras import layers, models\n",
    "\n",
    "#Load pre-trained model (MobileNetV2 without the top layer)\n",
    "base_model = tf.keras.applications.MobileNetV2(input_shape = (224, 224, 3),\n",
    "                                               include_top = False,\n",
    "                                               weights = 'imagenet')\n",
    "\n",
    "#Freeze the base model layers\n",
    "base_model.trainable = False\n",
    "\n",
    "# Add a custom top layer\n",
    "model = models.Sequential([\n",
    "    base_model,\n",
    "    layers.GlobalAveragePooling2D(),\n",
    "    layers.Dense(10, activation = 'softmax')\n",
    "])\n",
    "\n",
    "#compilr the model\n",
    "model.compile(optimizer = 'adam',\n",
    "              loss = 'sparse_categorical_crossentropy',\n",
    "              metrics = ['accuracy'])\n",
    "\n",
    "#Dummy data for training (replace with real data)\n",
    "X_train = tf.random.normal([32, 224, 224, 3]) #32 random images\n",
    "y_train = tf.random.uniform([32], maxval = 10, dtype = tf.int32)\n",
    "\n",
    "# Train the top layer\n",
    "model.fit(X_train, y_train, epochs = 3)\n",
    "\n",
    "#Fine-tuning the base model (unfreeze some layers)\n",
    "base_model.trainable = True\n",
    "model.compile(optimizer = tf.keras.optimizers.Adam(1e-5), #lower learning rate\n",
    "              loss = 'sparse_categorical_crossentropy',\n",
    "              metrics = ['accuracy'])\n",
    "\n",
    "# Fine-tune the whole model\n",
    "model.fit(X_train, y_train, epochs = 3)"
   ]
  },
  {
   "cell_type": "code",
   "execution_count": null,
   "id": "753b8de7-9d45-4614-b791-9598ceddc9ee",
   "metadata": {},
   "outputs": [],
   "source": []
  }
 ],
 "metadata": {
  "kernelspec": {
   "display_name": "Python 3 (ipykernel)",
   "language": "python",
   "name": "python3"
  },
  "language_info": {
   "codemirror_mode": {
    "name": "ipython",
    "version": 3
   },
   "file_extension": ".py",
   "mimetype": "text/x-python",
   "name": "python",
   "nbconvert_exporter": "python",
   "pygments_lexer": "ipython3",
   "version": "3.12.4"
  }
 },
 "nbformat": 4,
 "nbformat_minor": 5
}
