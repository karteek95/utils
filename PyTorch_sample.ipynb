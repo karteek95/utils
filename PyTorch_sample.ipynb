{
 "cells": [
  {
   "cell_type": "markdown",
   "id": "ed2223cc-438b-490f-aeb1-cd542b7745a4",
   "metadata": {},
   "source": [
    "### 1. PyTorch Basic Tensor Operation"
   ]
  },
  {
   "cell_type": "markdown",
   "id": "15f3189b-54ce-490e-8dcc-447647b02170",
   "metadata": {},
   "source": [
    "This example shows how to create tensors, perform basic operations, and move tensors between CPU and GPU. </br>\n",
    "-https://medium.com/red-buffer/training-an-object-detection-model-in-a-few-minutes-using-detectron2-5bd0aa5550d4"
   ]
  },
  {
   "cell_type": "code",
   "execution_count": 1,
   "id": "80c64df2-8cbe-41ce-b3c7-ef5e2edb062b",
   "metadata": {},
   "outputs": [
    {
     "name": "stdout",
     "output_type": "stream",
     "text": [
      "Tensor:\n",
      " tensor([[1., 2.],\n",
      "        [3., 4.]])\n"
     ]
    }
   ],
   "source": [
    "import torch\n",
    "\n",
    "# Creating a tensor\n",
    "tensor = torch.tensor([[1, 2], [3, 4]], dtype = torch.float32)\n",
    "print(\"Tensor:\\n\", tensor)"
   ]
  },
  {
   "cell_type": "code",
   "execution_count": 2,
   "id": "133fdb61-6944-45e6-95a4-0dd1a37b4a42",
   "metadata": {},
   "outputs": [
    {
     "name": "stdout",
     "output_type": "stream",
     "text": [
      "\n",
      "Sum of tensors:\n",
      " tensor([[2., 4.],\n",
      "        [6., 8.]])\n",
      "\n",
      "Element-wise product of tensors:\n",
      " tensor([[ 1.,  4.],\n",
      "        [ 9., 16.]])\n"
     ]
    }
   ],
   "source": [
    "# Basic operations\n",
    "tensor_sum = tensor + tensor\n",
    "tensor_product = tensor * tensor\n",
    "\n",
    "print(\"\\nSum of tensors:\\n\", tensor_sum)\n",
    "print(\"\\nElement-wise product of tensors:\\n\", tensor_product)"
   ]
  },
  {
   "cell_type": "code",
   "execution_count": 3,
   "id": "3214f261-9e3b-49e2-853a-1a3cb477c8df",
   "metadata": {},
   "outputs": [
    {
     "name": "stdout",
     "output_type": "stream",
     "text": [
      "\n",
      "Tensor moved to GPU:\n",
      " tensor([[1., 2.],\n",
      "        [3., 4.]], device='cuda:0')\n"
     ]
    }
   ],
   "source": [
    "#check for GPU and move tensor to GPU if available\n",
    "if torch.cuda.is_available():\n",
    "    tensor_gpu = tensor.to('cuda')\n",
    "    print(\"\\nTensor moved to GPU:\\n\", tensor_gpu)\n",
    "else:\n",
    "    print(\"\\nCUDA not available.\")"
   ]
  },
  {
   "cell_type": "markdown",
   "id": "2c8704d5-0013-4981-ab7c-17e750e8f06d",
   "metadata": {},
   "source": [
    "### 2. Simple Linear Model"
   ]
  },
  {
   "cell_type": "markdown",
   "id": "21a343df-154f-45c5-9bbe-e4e8b3fd4ef0",
   "metadata": {},
   "source": [
    "This example demonstrates how to define a simple linear regression model using PyTorch and perform a forward pass"
   ]
  },
  {
   "cell_type": "code",
   "execution_count": 4,
   "id": "a20c96b2-58d6-4a64-89d1-5c37092b3480",
   "metadata": {},
   "outputs": [
    {
     "name": "stdout",
     "output_type": "stream",
     "text": [
      "Model output: tensor([[-1.8639]], grad_fn=<AddmmBackward0>)\n"
     ]
    }
   ],
   "source": [
    "import torch\n",
    "import torch.nn as nn\n",
    "\n",
    "#Simple linear model\n",
    "class LinearModel(nn.Module):\n",
    "    def __init__(self):\n",
    "        super(LinearModel, self).__init__()\n",
    "        self.linear = nn.Linear(1, 1) # 1 input, 1 output\n",
    "\n",
    "    def forward(self, x):\n",
    "        return self.linear(x)\n",
    "\n",
    "#create model and input\n",
    "model = LinearModel()\n",
    "x =  torch.tensor([[5.0]]) #Input tensor\n",
    "\n",
    "#Forward pass\n",
    "output = model(x)\n",
    "print(\"Model output:\", output)"
   ]
  },
  {
   "cell_type": "markdown",
   "id": "41997057-f3ec-4869-8f31-c76dde96e8e5",
   "metadata": {},
   "source": [
    "## 3. Autograd and Backpropagation"
   ]
  },
  {
   "cell_type": "markdown",
   "id": "7cf5d76c-8486-40a2-b18f-04a9d819a537",
   "metadata": {},
   "source": [
    "This example shows how PyTorch's automatic differentiation engine (autograd) works by computing gradients."
   ]
  },
  {
   "cell_type": "code",
   "execution_count": 6,
   "id": "d4818308-3292-4537-9718-7df146202caf",
   "metadata": {},
   "outputs": [
    {
     "name": "stdout",
     "output_type": "stream",
     "text": [
      "Gradient of y with respect to x: tensor(7.)\n"
     ]
    }
   ],
   "source": [
    "# Create tensor with requires_grad=True to track computations\n",
    "x = torch.tensor(2.0, requires_grad = True)\n",
    "\n",
    "# Perform operations\n",
    "y = x ** 2 + 3 * x + 1\n",
    "\n",
    "# Backpropagate to compute gradients\n",
    "y.backward()\n",
    "\n",
    "#Gradient of y with respect to x\n",
    "print(\"Gradient of y with respect to x:\", x.grad)"
   ]
  },
  {
   "cell_type": "markdown",
   "id": "035895bb-f693-4185-9c53-ae9ec2fbc012",
   "metadata": {},
   "source": [
    "## 4. Fine-Tuning a CNN (Last Layer)"
   ]
  },
  {
   "cell_type": "markdown",
   "id": "f7b1b01a-284a-42b4-81cd-cc82804286f7",
   "metadata": {},
   "source": [
    "In this example, We'll load a pre-trained ResNet model, freeze its layers, and fine-tune the last fully connected layer for a new classification task (e.g., from 1000 classes to 10)"
   ]
  },
  {
   "cell_type": "code",
   "execution_count": 7,
   "id": "23e42f07-97c2-4c66-a613-9f4f83a74e8e",
   "metadata": {},
   "outputs": [
    {
     "name": "stderr",
     "output_type": "stream",
     "text": [
      "C:\\Users\\kandu\\anaconda3\\Lib\\site-packages\\torchvision\\models\\_utils.py:208: UserWarning: The parameter 'pretrained' is deprecated since 0.13 and may be removed in the future, please use 'weights' instead.\n",
      "  warnings.warn(\n",
      "C:\\Users\\kandu\\anaconda3\\Lib\\site-packages\\torchvision\\models\\_utils.py:223: UserWarning: Arguments other than a weight enum or `None` for 'weights' are deprecated since 0.13 and may be removed in the future. The current behavior is equivalent to passing `weights=ResNet18_Weights.IMAGENET1K_V1`. You can also use `weights=ResNet18_Weights.DEFAULT` to get the most up-to-date weights.\n",
      "  warnings.warn(msg)\n",
      "Downloading: \"https://download.pytorch.org/models/resnet18-f37072fd.pth\" to C:\\Users\\kandu/.cache\\torch\\hub\\checkpoints\\resnet18-f37072fd.pth\n",
      "100%|█████████████████████████████████████████████████████████████████████████████| 44.7M/44.7M [00:05<00:00, 8.59MB/s]\n"
     ]
    },
    {
     "name": "stdout",
     "output_type": "stream",
     "text": [
      "output shape: torch.Size([1, 10])\n"
     ]
    }
   ],
   "source": [
    "import torch\n",
    "import torch.nn as nn\n",
    "import torchvision.models as models\n",
    "\n",
    "# Load pre-trained ResNet\n",
    "model = models.resnet18(pretrained = True)\n",
    "\n",
    "# Freeze all layers except the last fully connected layer\n",
    "for param in model.parameters():\n",
    "    param.requires_grad = False\n",
    "\n",
    "#Modify the last fully connected layer to output 10 classes instead of 1000\n",
    "model.fc = nn.Linear(model.fc.in_features, 10)\n",
    "\n",
    "# Example input tensor (batch size 1, 3 channels, 224*224)\n",
    "input_tensor = torch.randn(1, 3, 224, 224)\n",
    "\n",
    "#Forward pass\n",
    "output = model(input_tensor)\n",
    "\n",
    "print(\"output shape:\", output.shape)"
   ]
  }
 ],
 "metadata": {
  "kernelspec": {
   "display_name": "Python 3 (ipykernel)",
   "language": "python",
   "name": "python3"
  },
  "language_info": {
   "codemirror_mode": {
    "name": "ipython",
    "version": 3
   },
   "file_extension": ".py",
   "mimetype": "text/x-python",
   "name": "python",
   "nbconvert_exporter": "python",
   "pygments_lexer": "ipython3",
   "version": "3.12.4"
  }
 },
 "nbformat": 4,
 "nbformat_minor": 5
}
