{
 "cells": [
  {
   "cell_type": "markdown",
   "id": "ed2223cc-438b-490f-aeb1-cd542b7745a4",
   "metadata": {},
   "source": [
    "### 1. PyTorch Basic Tensor Operation"
   ]
  },
  {
   "cell_type": "markdown",
   "id": "15f3189b-54ce-490e-8dcc-447647b02170",
   "metadata": {},
   "source": [
    "This example shows how to create tensors, perform basic operations, and move tensors between CPU and GPU"
   ]
  },
  {
   "cell_type": "code",
   "execution_count": 2,
   "id": "80c64df2-8cbe-41ce-b3c7-ef5e2edb062b",
   "metadata": {},
   "outputs": [
    {
     "name": "stdout",
     "output_type": "stream",
     "text": [
      "Tensor:\n",
      " tensor([[1., 2.],\n",
      "        [3., 4.]])\n"
     ]
    }
   ],
   "source": [
    "import torch\n",
    "\n",
    "# Creating a tensor\n",
    "tensor = torch.tensor([[1, 2], [3, 4]], dtype = torch.float32)\n",
    "print(\"Tensor:\\n\", tensor)"
   ]
  },
  {
   "cell_type": "code",
   "execution_count": 3,
   "id": "133fdb61-6944-45e6-95a4-0dd1a37b4a42",
   "metadata": {},
   "outputs": [
    {
     "name": "stdout",
     "output_type": "stream",
     "text": [
      "\n",
      "Sum of tensors:\n",
      " tensor([[2., 4.],\n",
      "        [6., 8.]])\n",
      "\n",
      "Element-wise product of tensors:\n",
      " tensor([[ 1.,  4.],\n",
      "        [ 9., 16.]])\n"
     ]
    }
   ],
   "source": [
    "# Basic operations\n",
    "tensor_sum = tensor + tensor\n",
    "tensor_product = tensor * tensor\n",
    "\n",
    "print(\"\\nSum of tensors:\\n\", tensor_sum)\n",
    "print(\"\\nElement-wise product of tensors:\\n\", tensor_product)"
   ]
  },
  {
   "cell_type": "code",
   "execution_count": 4,
   "id": "3214f261-9e3b-49e2-853a-1a3cb477c8df",
   "metadata": {},
   "outputs": [
    {
     "name": "stdout",
     "output_type": "stream",
     "text": [
      "\n",
      "CUDA not available.\n"
     ]
    }
   ],
   "source": [
    "#check for GPU and move tensor to GPU if available\n",
    "if torch.cuda.is_available():\n",
    "    tensor_gpu = tensor.to('cuda')\n",
    "    print(\"\\nTensor moved to GPU:\\n\", tensor_gpu)\n",
    "else:\n",
    "    print(\"\\nCUDA not available.\")"
   ]
  },
  {
   "cell_type": "code",
   "execution_count": null,
   "id": "67774885-ac3b-4f95-bd0e-77bb7de7c50d",
   "metadata": {},
   "outputs": [],
   "source": []
  }
 ],
 "metadata": {
  "kernelspec": {
   "display_name": "Python 3 (ipykernel)",
   "language": "python",
   "name": "python3"
  },
  "language_info": {
   "codemirror_mode": {
    "name": "ipython",
    "version": 3
   },
   "file_extension": ".py",
   "mimetype": "text/x-python",
   "name": "python",
   "nbconvert_exporter": "python",
   "pygments_lexer": "ipython3",
   "version": "3.12.4"
  }
 },
 "nbformat": 4,
 "nbformat_minor": 5
}
